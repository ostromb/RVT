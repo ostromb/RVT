{
 "cells": [
  {
   "cell_type": "code",
   "execution_count": 2,
   "metadata": {},
   "outputs": [],
   "source": [
    "import torch\n",
    "import norse\n",
    "import norse.torch as norse\n"
   ]
  },
  {
   "cell_type": "code",
   "execution_count": 20,
   "metadata": {},
   "outputs": [],
   "source": [
    "def create_my_awesome_lstm(shape, n_scale):\n",
    "    time_constants = (1 / 0.001) / norse.functional.receptive_field.temporal_scale_distribution(32, max_scale=1000)\n",
    "    time_constants = time_constants.reshape(n_scale, 1, 1).repeat(1, *shape)\n",
    "    p = norse.LIBoxParameters(tau_mem_inv=time_constants)\n",
    "    return norse.SequentialState(\n",
    "        norse.LIBoxCell(p),\n",
    "        torch.nn.ReLU(),\n",
    "    )"
   ]
  },
  {
   "cell_type": "code",
   "execution_count": 27,
   "metadata": {},
   "outputs": [
    {
     "data": {
      "text/plain": [
       "torch.Size([1, 32, 60, 80])"
      ]
     },
     "execution_count": 27,
     "metadata": {},
     "output_type": "execute_result"
    }
   ],
   "source": [
    "new_lstm = create_my_awesome_lstm((60, 80), 32)\n",
    "z = new_lstm(torch.zeros(1, 32, 60, 80))\n",
    "new_lstm(z[0],z[1])[0].shape"
   ]
  },
  {
   "cell_type": "code",
   "execution_count": 4,
   "metadata": {},
   "outputs": [
    {
     "data": {
      "text/plain": [
       "torch.Size([32, 100, 100])"
      ]
     },
     "execution_count": 4,
     "metadata": {},
     "output_type": "execute_result"
    }
   ],
   "source": [
    "a = torch.ones(100,100)*torch.ones(32,1,1)\n",
    "a.shape"
   ]
  }
 ],
 "metadata": {
  "kernelspec": {
   "display_name": "rvt",
   "language": "python",
   "name": "python3"
  },
  "language_info": {
   "codemirror_mode": {
    "name": "ipython",
    "version": 3
   },
   "file_extension": ".py",
   "mimetype": "text/x-python",
   "name": "python",
   "nbconvert_exporter": "python",
   "pygments_lexer": "ipython3",
   "version": "3.9.12"
  }
 },
 "nbformat": 4,
 "nbformat_minor": 2
}
